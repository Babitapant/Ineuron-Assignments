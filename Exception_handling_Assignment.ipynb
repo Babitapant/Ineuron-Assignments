{
  "nbformat": 4,
  "nbformat_minor": 0,
  "metadata": {
    "colab": {
      "name": "Exception handling Assignment.ipynb",
      "provenance": []
    },
    "kernelspec": {
      "name": "python3",
      "display_name": "Python 3"
    }
  },
  "cells": [
    {
      "cell_type": "code",
      "metadata": {
        "colab": {
          "base_uri": "https://localhost:8080/",
          "height": 207
        },
        "id": "IVe9anEX0MFH",
        "outputId": "d354da2f-f8b0-47a7-97a7-0e4814991bf4"
      },
      "source": [
        "a = 5\r\n",
        "b = 0\r\n",
        "c= a/b\r\n",
        "print(c)"
      ],
      "execution_count": 2,
      "outputs": [
        {
          "output_type": "error",
          "ename": "ZeroDivisionError",
          "evalue": "ignored",
          "traceback": [
            "\u001b[0;31m---------------------------------------------------------------------------\u001b[0m",
            "\u001b[0;31mZeroDivisionError\u001b[0m                         Traceback (most recent call last)",
            "\u001b[0;32m<ipython-input-2-1b8bc6ab8691>\u001b[0m in \u001b[0;36m<module>\u001b[0;34m()\u001b[0m\n\u001b[1;32m      1\u001b[0m \u001b[0ma\u001b[0m \u001b[0;34m=\u001b[0m \u001b[0;36m5\u001b[0m\u001b[0;34m\u001b[0m\u001b[0;34m\u001b[0m\u001b[0m\n\u001b[1;32m      2\u001b[0m \u001b[0mb\u001b[0m \u001b[0;34m=\u001b[0m \u001b[0;36m0\u001b[0m\u001b[0;34m\u001b[0m\u001b[0;34m\u001b[0m\u001b[0m\n\u001b[0;32m----> 3\u001b[0;31m \u001b[0mc\u001b[0m\u001b[0;34m=\u001b[0m \u001b[0ma\u001b[0m\u001b[0;34m/\u001b[0m\u001b[0mb\u001b[0m\u001b[0;34m\u001b[0m\u001b[0;34m\u001b[0m\u001b[0m\n\u001b[0m\u001b[1;32m      4\u001b[0m \u001b[0mprint\u001b[0m\u001b[0;34m(\u001b[0m\u001b[0mc\u001b[0m\u001b[0;34m)\u001b[0m\u001b[0;34m\u001b[0m\u001b[0;34m\u001b[0m\u001b[0m\n",
            "\u001b[0;31mZeroDivisionError\u001b[0m: division by zero"
          ]
        }
      ]
    },
    {
      "cell_type": "markdown",
      "metadata": {
        "id": "Z40ffBqRfBmr"
      },
      "source": [
        "1. Write a function to compute 5/0 and use try/except to catch the exceptions. "
      ]
    },
    {
      "cell_type": "markdown",
      "metadata": {
        "id": "J_F2jyvE0TEB"
      },
      "source": [
        "We can see in above code gives Zero division error. \r\n",
        "By using Exception handling we did not get this error"
      ]
    },
    {
      "cell_type": "code",
      "metadata": {
        "colab": {
          "base_uri": "https://localhost:8080/"
        },
        "id": "DR_It8R2ea9o",
        "outputId": "238eae35-f8d9-4485-e4f1-de12ce099a71"
      },
      "source": [
        "#we are try to doing exception handling\r\n",
        "#If we run code and there is a problem in a code its give error. But using exception handling method \r\n",
        "# It handle the all exception so that the code can be executed without any interruption.\r\n",
        "try:\r\n",
        "  a = 5\r\n",
        "  b = 0\r\n",
        "  c= a/b\r\n",
        "  print(c)\r\n",
        "except:\r\n",
        "  print(\"There is ZeroDivisionError\")\r\n",
        "else:\r\n",
        "  (\"There is right ans\")"
      ],
      "execution_count": 3,
      "outputs": [
        {
          "output_type": "stream",
          "text": [
            "There is ZeroDivisionError\n"
          ],
          "name": "stdout"
        }
      ]
    },
    {
      "cell_type": "code",
      "metadata": {
        "id": "S96m39g0fvEw"
      },
      "source": [
        ""
      ],
      "execution_count": 3,
      "outputs": []
    },
    {
      "cell_type": "markdown",
      "metadata": {
        "id": "XOujwNz3hNa1"
      },
      "source": [
        "2- Implement a Python program to generate all sentences where subject is in  [\"Americans\", \"Indians\"] and verb is in [\"Play\", \"watch\"] and the object is in  [\"Baseball\",\"cricket\"]. \r\n",
        "Hint: Subject,Verb and Object should be declared in the program as shown below. \r\n",
        "subjects=[\"Americans \",\"Indians\"] \r\n",
        "verbs=[\"play\",\"watch\"] \r\n",
        "objects=[\"Baseball\",\"Cricket\"] \r\n",
        "Output should come as below\r\n"
      ]
    },
    {
      "cell_type": "code",
      "metadata": {
        "colab": {
          "base_uri": "https://localhost:8080/"
        },
        "id": "yGDGTcA7hOUk",
        "outputId": "483d049b-19f6-437f-be32-4c1036bb4e2d"
      },
      "source": [
        "# we have create 3 lists sub, verb, obj\r\n",
        "#create for loop to pass sub, verb, obj \r\n",
        "sub = ['Americans', 'Indian']\r\n",
        "verb= ['Play', 'Watch']\r\n",
        "obj= ['Baseball', 'Cricket']\r\n",
        "sentence= [(su + \" \" + ver + \" \" + ob) for su in sub for ver in verb for ob in obj]\r\n",
        "print(\"output: \")\r\n",
        "print(sentence)\r\n",
        "print(type(sentence))\r\n"
      ],
      "execution_count": 4,
      "outputs": [
        {
          "output_type": "stream",
          "text": [
            "output: \n",
            "['Americans Play Baseball', 'Americans Play Cricket', 'Americans Watch Baseball', 'Americans Watch Cricket', 'Indian Play Baseball', 'Indian Play Cricket', 'Indian Watch Baseball', 'Indian Watch Cricket']\n",
            "<class 'list'>\n"
          ],
          "name": "stdout"
        }
      ]
    },
    {
      "cell_type": "code",
      "metadata": {
        "id": "heBZIzM9lPDe"
      },
      "source": [
        ""
      ],
      "execution_count": 2,
      "outputs": []
    }
  ]
}